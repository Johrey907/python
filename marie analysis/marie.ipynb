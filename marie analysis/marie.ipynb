{
 "cells": [
  {
   "cell_type": "code",
   "execution_count": 1,
   "id": "21d4abe2",
   "metadata": {},
   "outputs": [],
   "source": [
    "import pandas as pd"
   ]
  },
  {
   "cell_type": "code",
   "execution_count": 2,
   "id": "10188af2",
   "metadata": {},
   "outputs": [],
   "source": [
    "path = r\"C:\\Users\\PC\\Downloads\\marie.xlsx\""
   ]
  },
  {
   "cell_type": "code",
   "execution_count": 5,
   "id": "aacbbcd3",
   "metadata": {},
   "outputs": [],
   "source": [
    "df = pd.read_excel(path)"
   ]
  },
  {
   "cell_type": "code",
   "execution_count": 4,
   "id": "276d1116",
   "metadata": {},
   "outputs": [
    {
     "name": "stdout",
     "output_type": "stream",
     "text": [
      "Collecting openpyxl\n",
      "  Downloading openpyxl-3.1.5-py2.py3-none-any.whl.metadata (2.5 kB)\n",
      "Collecting et-xmlfile (from openpyxl)\n",
      "  Downloading et_xmlfile-2.0.0-py3-none-any.whl.metadata (2.7 kB)\n",
      "Downloading openpyxl-3.1.5-py2.py3-none-any.whl (250 kB)\n",
      "Downloading et_xmlfile-2.0.0-py3-none-any.whl (18 kB)\n",
      "Installing collected packages: et-xmlfile, openpyxl\n",
      "Successfully installed et-xmlfile-2.0.0 openpyxl-3.1.5\n",
      "Note: you may need to restart the kernel to use updated packages.\n"
     ]
    },
    {
     "name": "stderr",
     "output_type": "stream",
     "text": [
      "\n",
      "[notice] A new release of pip is available: 25.0.1 -> 25.1.1\n",
      "[notice] To update, run: python.exe -m pip install --upgrade pip\n"
     ]
    }
   ],
   "source": [
    "pip install openpyxl"
   ]
  },
  {
   "cell_type": "code",
   "execution_count": 6,
   "id": "67f3a678",
   "metadata": {},
   "outputs": [
    {
     "name": "stdout",
     "output_type": "stream",
     "text": [
      "   Age  Gender Educationlevel  Householdsize  Farmsize  Experience  Yield  \\\n",
      "0   67    Male       Secondar              3       2.0           5   45.0   \n",
      "1   60  Female       Tertiary              4       2.5           4   50.0   \n",
      "2   70  Female        Primary              2       2.0          36   29.0   \n",
      "3   64    Male        Primary              1       1.0           4   27.0   \n",
      "4   39    Male       Tertiary              4       1.0           1   15.0   \n",
      "\n",
      "   Marketprice Fertilizerusage Typeoffertilizer  ...  Poormarketacc  \\\n",
      "0        11000             Yes         Chemical  ...              0   \n",
      "1        11000             Yes          Organic  ...              0   \n",
      "2        11000             Yes          Organic  ...              1   \n",
      "3        11000             Yes          Organic  ...              0   \n",
      "4        11000             Yes          Organic  ...              0   \n",
      "\n",
      "   Lowcoffeepric climate_change  low_technique pests_deseases others specify  \\\n",
      "0              0              0              0              1      0     NaN   \n",
      "1              1              1              1              0      1     NaN   \n",
      "2              0              0              1              0      0     NaN   \n",
      "3              0              0              0              0      0     NaN   \n",
      "4              1              0              0              0      0     NaN   \n",
      "\n",
      "   interventions  comments Distrists  \n",
      "0        Gharama  Iangaliw         1  \n",
      "1       Wataaala  Hamasa z         1  \n",
      "2        Vibarua  Hakuna m         1  \n",
      "3       Chama ki  Mifereji         1  \n",
      "4       Upatikan   Kuwe na         1  \n",
      "\n",
      "[5 rows x 39 columns]\n"
     ]
    }
   ],
   "source": [
    "print(df.head())"
   ]
  },
  {
   "cell_type": "code",
   "execution_count": 8,
   "id": "26821ad7",
   "metadata": {},
   "outputs": [
    {
     "name": "stdout",
     "output_type": "stream",
     "text": [
      "The type of the variable Gender is <class 'pandas.core.series.Series'>\n"
     ]
    }
   ],
   "source": [
    "print(f\"The type of the variable Gender is {type(df['Gender'])}\")\n"
   ]
  },
  {
   "cell_type": "code",
   "execution_count": 13,
   "id": "63e9fe55",
   "metadata": {},
   "outputs": [
    {
     "name": "stdout",
     "output_type": "stream",
     "text": [
      "float64\n"
     ]
    }
   ],
   "source": [
    "print(df['Gender'].dtype)"
   ]
  },
  {
   "cell_type": "markdown",
   "id": "580e8851",
   "metadata": {},
   "source": [
    "#I want to change female from string into interger "
   ]
  },
  {
   "cell_type": "code",
   "execution_count": 12,
   "id": "fea4ce02",
   "metadata": {},
   "outputs": [],
   "source": [
    "df['Gender'] = df['Gender'].map({\n",
    "    'Female': 0, \n",
    "    'Male': 1\n",
    "    })"
   ]
  },
  {
   "cell_type": "code",
   "execution_count": 18,
   "id": "ae1549a0",
   "metadata": {},
   "outputs": [
    {
     "name": "stdout",
     "output_type": "stream",
     "text": [
      "0      1\n",
      "1      0\n",
      "2      0\n",
      "3      1\n",
      "4      1\n",
      "      ..\n",
      "379    0\n",
      "380    1\n",
      "381    0\n",
      "382    0\n",
      "383    0\n",
      "Name: Gender, Length: 384, dtype: int64\n"
     ]
    }
   ],
   "source": [
    "print(df['Gender'])"
   ]
  },
  {
   "cell_type": "code",
   "execution_count": 17,
   "id": "3d46d0fe",
   "metadata": {},
   "outputs": [
    {
     "name": "stdout",
     "output_type": "stream",
     "text": [
      "Empty DataFrame\n",
      "Columns: [Age, Gender, Educationlevel, Householdsize, Farmsize, Experience, Yield, Marketprice, Fertilizerusage, Typeoffertilizer, Fertilizerfrequency, Fertilizerquantity, Usepesticides, Pesticidefrequency, inputsource, Q16_other.Pleasespecify, Trainingaccess, Extensionvisits, Useirrigation, Accessedloan, Loanamount, Coopmember, Laborsource, Labornumber, Coffeemarket, Marketdistance, Pricesatisfaction, Farmingchallenges, Highcosts, Poormarketacc, Lowcoffeepric, climate_change, low_technique, pests_deseases, others, specify, interventions, comments, Distrists]\n",
      "Index: []\n",
      "\n",
      "[0 rows x 39 columns]\n"
     ]
    }
   ],
   "source": [
    "print(df[df['Gender'].isna()])"
   ]
  },
  {
   "cell_type": "markdown",
   "id": "cbdeb075",
   "metadata": {},
   "source": [
    "here i changed the missing values (Nan) and gave them a value of 0"
   ]
  },
  {
   "cell_type": "code",
   "execution_count": 16,
   "id": "0b6004b6",
   "metadata": {},
   "outputs": [],
   "source": [
    "df['Gender'] = df['Gender'].fillna(0).astype(int)"
   ]
  },
  {
   "cell_type": "markdown",
   "id": "87511bc1",
   "metadata": {},
   "source": [
    "here i chaged the education variable into an interger since it was a string before"
   ]
  },
  {
   "cell_type": "code",
   "execution_count": 20,
   "id": "7bfb1fd9",
   "metadata": {},
   "outputs": [],
   "source": [
    "df['Educationlevel'] = df['Educationlevel'].map({\n",
    "    'Primary': 0, \n",
    "    'Secondar': 1,\n",
    "    'Tertiary': 2\n",
    "    })"
   ]
  },
  {
   "cell_type": "code",
   "execution_count": 23,
   "id": "72c8be66",
   "metadata": {},
   "outputs": [
    {
     "name": "stdout",
     "output_type": "stream",
     "text": [
      "0      1\n",
      "1      2\n",
      "2      0\n",
      "3      0\n",
      "4      2\n",
      "      ..\n",
      "379    0\n",
      "380    0\n",
      "381    0\n",
      "382    1\n",
      "383    0\n",
      "Name: Educationlevel, Length: 384, dtype: int64\n"
     ]
    }
   ],
   "source": [
    "df['Educationlevel'] = df['Educationlevel'].fillna(0).astype(int)\n",
    "df['Educationlevel'] = df['Educationlevel'].astype(int)\n",
    "print(df['Educationlevel'])"
   ]
  },
  {
   "cell_type": "markdown",
   "id": "feafcca6",
   "metadata": {},
   "source": [
    "Now changing the fertilizer variable into an interger"
   ]
  },
  {
   "cell_type": "code",
   "execution_count": 29,
   "id": "45e739b8",
   "metadata": {},
   "outputs": [],
   "source": [
    "df['Fertilizerusage '] = df['Fertilizerusage'].map({\n",
    "    'No': 0, \n",
    "    'Yes': 1\n",
    "    })"
   ]
  },
  {
   "cell_type": "code",
   "execution_count": 28,
   "id": "62da474f",
   "metadata": {},
   "outputs": [
    {
     "name": "stdout",
     "output_type": "stream",
     "text": [
      "0      Yes\n",
      "1      Yes\n",
      "2      Yes\n",
      "3      Yes\n",
      "4      Yes\n",
      "      ... \n",
      "379    Yes\n",
      "380    Yes\n",
      "381    Yes\n",
      "382    Yes\n",
      "383    Yes\n",
      "Name: Fertilizerusage, Length: 384, dtype: object\n"
     ]
    }
   ],
   "source": [
    "print(df['Fertilizerusage'])"
   ]
  },
  {
   "cell_type": "code",
   "execution_count": 31,
   "id": "5956ee88",
   "metadata": {},
   "outputs": [],
   "source": [
    "df.to_csv('test1.csv', index=False)\n"
   ]
  },
  {
   "cell_type": "code",
   "execution_count": 32,
   "id": "894ba88e",
   "metadata": {},
   "outputs": [
    {
     "name": "stderr",
     "output_type": "stream",
     "text": [
      "C:\\Users\\PC\\AppData\\Local\\Temp\\ipykernel_6368\\83727086.py:1: InvalidColumnName: \n",
      "Not all pandas column names were valid Stata variable names.\n",
      "The following replacements have been made:\n",
      "\n",
      "    Q16_other.Pleasespecify   ->   Q16_other_Pleasespecify\n",
      "    Fertilizerusage    ->   Fertilizerusage_\n",
      "\n",
      "If this is not what you expect, please make sure you have Stata-compliant\n",
      "column names in your DataFrame (strings only, max 32 characters, only\n",
      "alphanumerics and underscores, no Stata reserved words)\n",
      "\n",
      "  df.to_stata('test2.dta', write_index=False)\n"
     ]
    }
   ],
   "source": [
    "df.to_stata('test2.dta', write_index=False)\n"
   ]
  }
 ],
 "metadata": {
  "kernelspec": {
   "display_name": "Python 3",
   "language": "python",
   "name": "python3"
  },
  "language_info": {
   "codemirror_mode": {
    "name": "ipython",
    "version": 3
   },
   "file_extension": ".py",
   "mimetype": "text/x-python",
   "name": "python",
   "nbconvert_exporter": "python",
   "pygments_lexer": "ipython3",
   "version": "3.13.3"
  }
 },
 "nbformat": 4,
 "nbformat_minor": 5
}
