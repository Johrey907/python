{
 "cells": [
  {
   "cell_type": "code",
   "execution_count": 1,
   "id": "a67d9b34",
   "metadata": {},
   "outputs": [],
   "source": [
    "import pandas as pd"
   ]
  },
  {
   "cell_type": "code",
   "execution_count": 2,
   "id": "759de87f",
   "metadata": {},
   "outputs": [],
   "source": [
    "df = pd.read_csv(\"C:/data/dairy.csv\")"
   ]
  },
  {
   "cell_type": "code",
   "execution_count": 3,
   "id": "7d271f45",
   "metadata": {},
   "outputs": [
    {
     "data": {
      "text/html": [
       "<div>\n",
       "<style scoped>\n",
       "    .dataframe tbody tr th:only-of-type {\n",
       "        vertical-align: middle;\n",
       "    }\n",
       "\n",
       "    .dataframe tbody tr th {\n",
       "        vertical-align: top;\n",
       "    }\n",
       "\n",
       "    .dataframe thead th {\n",
       "        text-align: right;\n",
       "    }\n",
       "</style>\n",
       "<table border=\"1\" class=\"dataframe\">\n",
       "  <thead>\n",
       "    <tr style=\"text-align: right;\">\n",
       "      <th></th>\n",
       "      <th>SN</th>\n",
       "      <th>Village</th>\n",
       "      <th>Gender</th>\n",
       "      <th>R_2_HH</th>\n",
       "      <th>HH_Size</th>\n",
       "      <th>Age</th>\n",
       "      <th>Ethnicity</th>\n",
       "      <th>Decisions</th>\n",
       "      <th>P_Decisions</th>\n",
       "      <th>Education</th>\n",
       "      <th>...</th>\n",
       "      <th>Feeds_Qty_01</th>\n",
       "      <th>lnfeed</th>\n",
       "      <th>lnfeed1</th>\n",
       "      <th>Fodder_Exp_01</th>\n",
       "      <th>lnfodder</th>\n",
       "      <th>vetexp</th>\n",
       "      <th>vetvisits</th>\n",
       "      <th>Adherence</th>\n",
       "      <th>ATT</th>\n",
       "      <th>ATU</th>\n",
       "    </tr>\n",
       "  </thead>\n",
       "  <tbody>\n",
       "    <tr>\n",
       "      <th>0</th>\n",
       "      <td>1</td>\n",
       "      <td>samanga</td>\n",
       "      <td>Female</td>\n",
       "      <td>Spouse</td>\n",
       "      <td>2</td>\n",
       "      <td>22</td>\n",
       "      <td>Chagga</td>\n",
       "      <td>HH &amp; HM</td>\n",
       "      <td>Yes</td>\n",
       "      <td>Primary school</td>\n",
       "      <td>...</td>\n",
       "      <td>864</td>\n",
       "      <td>6.761573</td>\n",
       "      <td>6.761573</td>\n",
       "      <td>480000</td>\n",
       "      <td>13.081541</td>\n",
       "      <td>50000.0</td>\n",
       "      <td>5</td>\n",
       "      <td>Strongly agree</td>\n",
       "      <td>3852.0344</td>\n",
       "      <td>1989.1620</td>\n",
       "    </tr>\n",
       "    <tr>\n",
       "      <th>1</th>\n",
       "      <td>2</td>\n",
       "      <td>samanga</td>\n",
       "      <td>Female</td>\n",
       "      <td>Head</td>\n",
       "      <td>4</td>\n",
       "      <td>68</td>\n",
       "      <td>Chagga</td>\n",
       "      <td>HH</td>\n",
       "      <td>Yes</td>\n",
       "      <td>Primary school</td>\n",
       "      <td>...</td>\n",
       "      <td>840</td>\n",
       "      <td>6.733402</td>\n",
       "      <td>6.733402</td>\n",
       "      <td>60000</td>\n",
       "      <td>11.002100</td>\n",
       "      <td>20000.0</td>\n",
       "      <td>2</td>\n",
       "      <td>Neutral</td>\n",
       "      <td>2873.2932</td>\n",
       "      <td>3525.1184</td>\n",
       "    </tr>\n",
       "    <tr>\n",
       "      <th>2</th>\n",
       "      <td>3</td>\n",
       "      <td>samanga</td>\n",
       "      <td>Male</td>\n",
       "      <td>Head</td>\n",
       "      <td>4</td>\n",
       "      <td>78</td>\n",
       "      <td>Haya</td>\n",
       "      <td>HH &amp; HM</td>\n",
       "      <td>Yes</td>\n",
       "      <td>Primary school</td>\n",
       "      <td>...</td>\n",
       "      <td>20</td>\n",
       "      <td>2.995732</td>\n",
       "      <td>2.995732</td>\n",
       "      <td>0</td>\n",
       "      <td>NaN</td>\n",
       "      <td>5000.0</td>\n",
       "      <td>1</td>\n",
       "      <td>Disagree</td>\n",
       "      <td>NaN</td>\n",
       "      <td>NaN</td>\n",
       "    </tr>\n",
       "    <tr>\n",
       "      <th>3</th>\n",
       "      <td>4</td>\n",
       "      <td>samanga</td>\n",
       "      <td>Female</td>\n",
       "      <td>Head</td>\n",
       "      <td>4</td>\n",
       "      <td>58</td>\n",
       "      <td>Pare</td>\n",
       "      <td>HH &amp; HM</td>\n",
       "      <td>Yes</td>\n",
       "      <td>Primary school</td>\n",
       "      <td>...</td>\n",
       "      <td>200</td>\n",
       "      <td>5.298317</td>\n",
       "      <td>5.298317</td>\n",
       "      <td>350000</td>\n",
       "      <td>12.765689</td>\n",
       "      <td>35000.0</td>\n",
       "      <td>4</td>\n",
       "      <td>Strongly agree</td>\n",
       "      <td>3008.8970</td>\n",
       "      <td>1810.3187</td>\n",
       "    </tr>\n",
       "    <tr>\n",
       "      <th>4</th>\n",
       "      <td>5</td>\n",
       "      <td>samanga</td>\n",
       "      <td>Female</td>\n",
       "      <td>Spouse</td>\n",
       "      <td>3</td>\n",
       "      <td>50</td>\n",
       "      <td>Chagga</td>\n",
       "      <td>HH &amp; HM</td>\n",
       "      <td>Yes</td>\n",
       "      <td>Primary school</td>\n",
       "      <td>...</td>\n",
       "      <td>560</td>\n",
       "      <td>6.327937</td>\n",
       "      <td>6.327937</td>\n",
       "      <td>330000</td>\n",
       "      <td>12.706848</td>\n",
       "      <td>50000.0</td>\n",
       "      <td>5</td>\n",
       "      <td>Strongly agree</td>\n",
       "      <td>1594.8217</td>\n",
       "      <td>1251.4214</td>\n",
       "    </tr>\n",
       "  </tbody>\n",
       "</table>\n",
       "<p>5 rows × 306 columns</p>\n",
       "</div>"
      ],
      "text/plain": [
       "   SN  Village  Gender  R_2_HH  HH_Size  Age Ethnicity Decisions P_Decisions  \\\n",
       "0   1  samanga  Female  Spouse        2   22    Chagga   HH & HM         Yes   \n",
       "1   2  samanga  Female    Head        4   68    Chagga        HH         Yes   \n",
       "2   3  samanga    Male    Head        4   78      Haya   HH & HM         Yes   \n",
       "3   4  samanga  Female    Head        4   58      Pare   HH & HM         Yes   \n",
       "4   5  samanga  Female  Spouse        3   50    Chagga   HH & HM         Yes   \n",
       "\n",
       "        Education  ...  Feeds_Qty_01    lnfeed   lnfeed1  Fodder_Exp_01  \\\n",
       "0  Primary school  ...           864  6.761573  6.761573         480000   \n",
       "1  Primary school  ...           840  6.733402  6.733402          60000   \n",
       "2  Primary school  ...            20  2.995732  2.995732              0   \n",
       "3  Primary school  ...           200  5.298317  5.298317         350000   \n",
       "4  Primary school  ...           560  6.327937  6.327937         330000   \n",
       "\n",
       "    lnfodder   vetexp  vetvisits       Adherence        ATT        ATU  \n",
       "0  13.081541  50000.0          5  Strongly agree  3852.0344  1989.1620  \n",
       "1  11.002100  20000.0          2         Neutral  2873.2932  3525.1184  \n",
       "2        NaN   5000.0          1        Disagree        NaN        NaN  \n",
       "3  12.765689  35000.0          4  Strongly agree  3008.8970  1810.3187  \n",
       "4  12.706848  50000.0          5  Strongly agree  1594.8217  1251.4214  \n",
       "\n",
       "[5 rows x 306 columns]"
      ]
     },
     "execution_count": 3,
     "metadata": {},
     "output_type": "execute_result"
    }
   ],
   "source": [
    "df.head()"
   ]
  },
  {
   "cell_type": "code",
   "execution_count": 5,
   "id": "6f8d0a01",
   "metadata": {},
   "outputs": [
    {
     "name": "stdout",
     "output_type": "stream",
     "text": [
      "Requirement already satisfied: numpy in c:\\users\\pc\\appdata\\local\\programs\\python\\python313\\lib\\site-packages (2.2.5)\n"
     ]
    }
   ],
   "source": [
    "!pip install numpy"
   ]
  },
  {
   "cell_type": "code",
   "execution_count": 6,
   "id": "09da7d40",
   "metadata": {},
   "outputs": [],
   "source": [
    "import numpy as np"
   ]
  },
  {
   "cell_type": "code",
   "execution_count": 8,
   "id": "7fb1408a",
   "metadata": {},
   "outputs": [
    {
     "data": {
      "text/plain": [
       "(250, 306)"
      ]
     },
     "execution_count": 8,
     "metadata": {},
     "output_type": "execute_result"
    }
   ],
   "source": [
    "df.shape"
   ]
  },
  {
   "cell_type": "code",
   "execution_count": 9,
   "id": "c08c05bf",
   "metadata": {},
   "outputs": [
    {
     "data": {
      "text/plain": [
       "Index(['SN', 'Village', 'Gender', 'R_2_HH', 'HH_Size', 'Age', 'Ethnicity',\n",
       "       'Decisions', 'P_Decisions', 'Education',\n",
       "       ...\n",
       "       'Feeds_Qty_01', 'lnfeed', 'lnfeed1', 'Fodder_Exp_01', 'lnfodder',\n",
       "       'vetexp', 'vetvisits', 'Adherence', 'ATT', 'ATU'],\n",
       "      dtype='object', length=306)"
      ]
     },
     "execution_count": 9,
     "metadata": {},
     "output_type": "execute_result"
    }
   ],
   "source": [
    "df.columns"
   ]
  },
  {
   "cell_type": "code",
   "execution_count": 14,
   "id": "80c06bcb",
   "metadata": {},
   "outputs": [],
   "source": [
    "columns = ['Village', 'vetexp', 'vetvisits']"
   ]
  },
  {
   "cell_type": "code",
   "execution_count": 15,
   "id": "7ff57d5c",
   "metadata": {},
   "outputs": [
    {
     "data": {
      "text/html": [
       "<div>\n",
       "<style scoped>\n",
       "    .dataframe tbody tr th:only-of-type {\n",
       "        vertical-align: middle;\n",
       "    }\n",
       "\n",
       "    .dataframe tbody tr th {\n",
       "        vertical-align: top;\n",
       "    }\n",
       "\n",
       "    .dataframe thead th {\n",
       "        text-align: right;\n",
       "    }\n",
       "</style>\n",
       "<table border=\"1\" class=\"dataframe\">\n",
       "  <thead>\n",
       "    <tr style=\"text-align: right;\">\n",
       "      <th></th>\n",
       "      <th>Village</th>\n",
       "      <th>vetexp</th>\n",
       "      <th>vetvisits</th>\n",
       "    </tr>\n",
       "  </thead>\n",
       "  <tbody>\n",
       "    <tr>\n",
       "      <th>0</th>\n",
       "      <td>samanga</td>\n",
       "      <td>50000.0</td>\n",
       "      <td>5</td>\n",
       "    </tr>\n",
       "    <tr>\n",
       "      <th>1</th>\n",
       "      <td>samanga</td>\n",
       "      <td>20000.0</td>\n",
       "      <td>2</td>\n",
       "    </tr>\n",
       "    <tr>\n",
       "      <th>2</th>\n",
       "      <td>samanga</td>\n",
       "      <td>5000.0</td>\n",
       "      <td>1</td>\n",
       "    </tr>\n",
       "    <tr>\n",
       "      <th>3</th>\n",
       "      <td>samanga</td>\n",
       "      <td>35000.0</td>\n",
       "      <td>4</td>\n",
       "    </tr>\n",
       "    <tr>\n",
       "      <th>4</th>\n",
       "      <td>samanga</td>\n",
       "      <td>50000.0</td>\n",
       "      <td>5</td>\n",
       "    </tr>\n",
       "  </tbody>\n",
       "</table>\n",
       "</div>"
      ],
      "text/plain": [
       "   Village   vetexp  vetvisits\n",
       "0  samanga  50000.0          5\n",
       "1  samanga  20000.0          2\n",
       "2  samanga   5000.0          1\n",
       "3  samanga  35000.0          4\n",
       "4  samanga  50000.0          5"
      ]
     },
     "execution_count": 15,
     "metadata": {},
     "output_type": "execute_result"
    }
   ],
   "source": [
    "dff = df[df['vetexp'] > 0] [columns]\n",
    "dff.head()"
   ]
  },
  {
   "cell_type": "code",
   "execution_count": 17,
   "id": "598d0e2f",
   "metadata": {},
   "outputs": [
    {
     "data": {
      "text/plain": [
       "Index(['Village', 'vetexp', 'vetvisits'], dtype='object')"
      ]
     },
     "execution_count": 17,
     "metadata": {},
     "output_type": "execute_result"
    }
   ],
   "source": [
    "dff.shape\n",
    "dff.columns"
   ]
  },
  {
   "cell_type": "code",
   "execution_count": 18,
   "id": "3729563e",
   "metadata": {},
   "outputs": [
    {
     "data": {
      "text/plain": [
       "type[0      samanga\n",
       "1      samanga\n",
       "2      samanga\n",
       "3      samanga\n",
       "4      samanga\n",
       "        ...   \n",
       "244     mshiri\n",
       "245     mshiri\n",
       "246     mshiri\n",
       "247     mshiri\n",
       "249     mshiri\n",
       "Name: Village, Length: 227, dtype: object]"
      ]
     },
     "execution_count": 18,
     "metadata": {},
     "output_type": "execute_result"
    }
   ],
   "source": [
    "type[dff['Village']]"
   ]
  },
  {
   "cell_type": "code",
   "execution_count": 19,
   "id": "99dcc8f9",
   "metadata": {},
   "outputs": [
    {
     "data": {
      "text/html": [
       "<div>\n",
       "<style scoped>\n",
       "    .dataframe tbody tr th:only-of-type {\n",
       "        vertical-align: middle;\n",
       "    }\n",
       "\n",
       "    .dataframe tbody tr th {\n",
       "        vertical-align: top;\n",
       "    }\n",
       "\n",
       "    .dataframe thead th {\n",
       "        text-align: right;\n",
       "    }\n",
       "</style>\n",
       "<table border=\"1\" class=\"dataframe\">\n",
       "  <thead>\n",
       "    <tr style=\"text-align: right;\">\n",
       "      <th></th>\n",
       "      <th>vetexp</th>\n",
       "      <th>vetvisits</th>\n",
       "    </tr>\n",
       "  </thead>\n",
       "  <tbody>\n",
       "    <tr>\n",
       "      <th>count</th>\n",
       "      <td>227.000000</td>\n",
       "      <td>227.000000</td>\n",
       "    </tr>\n",
       "    <tr>\n",
       "      <th>mean</th>\n",
       "      <td>20842.034612</td>\n",
       "      <td>2.352423</td>\n",
       "    </tr>\n",
       "    <tr>\n",
       "      <th>std</th>\n",
       "      <td>18322.033112</td>\n",
       "      <td>1.147923</td>\n",
       "    </tr>\n",
       "    <tr>\n",
       "      <th>min</th>\n",
       "      <td>1000.000000</td>\n",
       "      <td>0.000000</td>\n",
       "    </tr>\n",
       "    <tr>\n",
       "      <th>25%</th>\n",
       "      <td>12000.000000</td>\n",
       "      <td>2.000000</td>\n",
       "    </tr>\n",
       "    <tr>\n",
       "      <th>50%</th>\n",
       "      <td>16000.000000</td>\n",
       "      <td>2.000000</td>\n",
       "    </tr>\n",
       "    <tr>\n",
       "      <th>75%</th>\n",
       "      <td>25000.000000</td>\n",
       "      <td>3.000000</td>\n",
       "    </tr>\n",
       "    <tr>\n",
       "      <th>max</th>\n",
       "      <td>144000.000000</td>\n",
       "      <td>6.000000</td>\n",
       "    </tr>\n",
       "  </tbody>\n",
       "</table>\n",
       "</div>"
      ],
      "text/plain": [
       "              vetexp   vetvisits\n",
       "count     227.000000  227.000000\n",
       "mean    20842.034612    2.352423\n",
       "std     18322.033112    1.147923\n",
       "min      1000.000000    0.000000\n",
       "25%     12000.000000    2.000000\n",
       "50%     16000.000000    2.000000\n",
       "75%     25000.000000    3.000000\n",
       "max    144000.000000    6.000000"
      ]
     },
     "execution_count": 19,
     "metadata": {},
     "output_type": "execute_result"
    }
   ],
   "source": [
    "dff.describe()"
   ]
  },
  {
   "cell_type": "code",
   "execution_count": 20,
   "id": "c97cf025",
   "metadata": {},
   "outputs": [
    {
     "name": "stdout",
     "output_type": "stream",
     "text": [
      "Collecting seaborn\n",
      "  Downloading seaborn-0.13.2-py3-none-any.whl.metadata (5.4 kB)\n",
      "Requirement already satisfied: numpy!=1.24.0,>=1.20 in c:\\users\\pc\\appdata\\local\\programs\\python\\python313\\lib\\site-packages (from seaborn) (2.2.5)\n",
      "Requirement already satisfied: pandas>=1.2 in c:\\users\\pc\\appdata\\local\\programs\\python\\python313\\lib\\site-packages (from seaborn) (2.2.3)\n",
      "Collecting matplotlib!=3.6.1,>=3.4 (from seaborn)\n",
      "  Using cached matplotlib-3.10.1-cp313-cp313-win_amd64.whl.metadata (11 kB)\n",
      "Collecting contourpy>=1.0.1 (from matplotlib!=3.6.1,>=3.4->seaborn)\n",
      "  Using cached contourpy-1.3.2-cp313-cp313-win_amd64.whl.metadata (5.5 kB)\n",
      "Collecting cycler>=0.10 (from matplotlib!=3.6.1,>=3.4->seaborn)\n",
      "  Using cached cycler-0.12.1-py3-none-any.whl.metadata (3.8 kB)\n",
      "Collecting fonttools>=4.22.0 (from matplotlib!=3.6.1,>=3.4->seaborn)\n",
      "  Using cached fonttools-4.57.0-cp313-cp313-win_amd64.whl.metadata (104 kB)\n",
      "Collecting kiwisolver>=1.3.1 (from matplotlib!=3.6.1,>=3.4->seaborn)\n",
      "  Using cached kiwisolver-1.4.8-cp313-cp313-win_amd64.whl.metadata (6.3 kB)\n",
      "Requirement already satisfied: packaging>=20.0 in c:\\users\\pc\\appdata\\roaming\\python\\python313\\site-packages (from matplotlib!=3.6.1,>=3.4->seaborn) (25.0)\n",
      "Collecting pillow>=8 (from matplotlib!=3.6.1,>=3.4->seaborn)\n",
      "  Using cached pillow-11.2.1-cp313-cp313-win_amd64.whl.metadata (9.1 kB)\n",
      "Collecting pyparsing>=2.3.1 (from matplotlib!=3.6.1,>=3.4->seaborn)\n",
      "  Using cached pyparsing-3.2.3-py3-none-any.whl.metadata (5.0 kB)\n",
      "Requirement already satisfied: python-dateutil>=2.7 in c:\\users\\pc\\appdata\\local\\programs\\python\\python313\\lib\\site-packages (from matplotlib!=3.6.1,>=3.4->seaborn) (2.9.0.post0)\n",
      "Requirement already satisfied: pytz>=2020.1 in c:\\users\\pc\\appdata\\local\\programs\\python\\python313\\lib\\site-packages (from pandas>=1.2->seaborn) (2025.2)\n",
      "Requirement already satisfied: tzdata>=2022.7 in c:\\users\\pc\\appdata\\local\\programs\\python\\python313\\lib\\site-packages (from pandas>=1.2->seaborn) (2025.2)\n",
      "Requirement already satisfied: six>=1.5 in c:\\users\\pc\\appdata\\local\\programs\\python\\python313\\lib\\site-packages (from python-dateutil>=2.7->matplotlib!=3.6.1,>=3.4->seaborn) (1.17.0)\n",
      "Downloading seaborn-0.13.2-py3-none-any.whl (294 kB)\n",
      "Using cached matplotlib-3.10.1-cp313-cp313-win_amd64.whl (8.1 MB)\n",
      "Using cached contourpy-1.3.2-cp313-cp313-win_amd64.whl (223 kB)\n",
      "Using cached cycler-0.12.1-py3-none-any.whl (8.3 kB)\n",
      "Using cached fonttools-4.57.0-cp313-cp313-win_amd64.whl (2.2 MB)\n",
      "Using cached kiwisolver-1.4.8-cp313-cp313-win_amd64.whl (71 kB)\n",
      "Using cached pillow-11.2.1-cp313-cp313-win_amd64.whl (2.7 MB)\n",
      "Using cached pyparsing-3.2.3-py3-none-any.whl (111 kB)\n",
      "Installing collected packages: pyparsing, pillow, kiwisolver, fonttools, cycler, contourpy, matplotlib, seaborn\n",
      "Successfully installed contourpy-1.3.2 cycler-0.12.1 fonttools-4.57.0 kiwisolver-1.4.8 matplotlib-3.10.1 pillow-11.2.1 pyparsing-3.2.3 seaborn-0.13.2\n"
     ]
    }
   ],
   "source": [
    "!pip install seaborn"
   ]
  },
  {
   "cell_type": "code",
   "execution_count": 21,
   "id": "4e3de13c",
   "metadata": {},
   "outputs": [
    {
     "name": "stdout",
     "output_type": "stream",
     "text": [
      "Requirement already satisfied: matplotlib in c:\\users\\pc\\appdata\\local\\programs\\python\\python313\\lib\\site-packages (3.10.1)\n",
      "Requirement already satisfied: contourpy>=1.0.1 in c:\\users\\pc\\appdata\\local\\programs\\python\\python313\\lib\\site-packages (from matplotlib) (1.3.2)\n",
      "Requirement already satisfied: cycler>=0.10 in c:\\users\\pc\\appdata\\local\\programs\\python\\python313\\lib\\site-packages (from matplotlib) (0.12.1)\n",
      "Requirement already satisfied: fonttools>=4.22.0 in c:\\users\\pc\\appdata\\local\\programs\\python\\python313\\lib\\site-packages (from matplotlib) (4.57.0)\n",
      "Requirement already satisfied: kiwisolver>=1.3.1 in c:\\users\\pc\\appdata\\local\\programs\\python\\python313\\lib\\site-packages (from matplotlib) (1.4.8)\n",
      "Requirement already satisfied: numpy>=1.23 in c:\\users\\pc\\appdata\\local\\programs\\python\\python313\\lib\\site-packages (from matplotlib) (2.2.5)\n",
      "Requirement already satisfied: packaging>=20.0 in c:\\users\\pc\\appdata\\roaming\\python\\python313\\site-packages (from matplotlib) (25.0)\n",
      "Requirement already satisfied: pillow>=8 in c:\\users\\pc\\appdata\\local\\programs\\python\\python313\\lib\\site-packages (from matplotlib) (11.2.1)\n",
      "Requirement already satisfied: pyparsing>=2.3.1 in c:\\users\\pc\\appdata\\local\\programs\\python\\python313\\lib\\site-packages (from matplotlib) (3.2.3)\n",
      "Requirement already satisfied: python-dateutil>=2.7 in c:\\users\\pc\\appdata\\local\\programs\\python\\python313\\lib\\site-packages (from matplotlib) (2.9.0.post0)\n",
      "Requirement already satisfied: six>=1.5 in c:\\users\\pc\\appdata\\local\\programs\\python\\python313\\lib\\site-packages (from python-dateutil>=2.7->matplotlib) (1.17.0)\n"
     ]
    }
   ],
   "source": [
    "!pip install matplotlib"
   ]
  },
  {
   "cell_type": "code",
   "execution_count": 22,
   "id": "c574ef0a",
   "metadata": {},
   "outputs": [],
   "source": [
    "import seaborn as sb\n",
    "import matplotlib.pyplot as mt"
   ]
  },
  {
   "cell_type": "code",
   "execution_count": 23,
   "id": "8eb44a68",
   "metadata": {},
   "outputs": [
    {
     "ename": "NameError",
     "evalue": "name 'plt' is not defined",
     "output_type": "error",
     "traceback": [
      "\u001b[31m---------------------------------------------------------------------------\u001b[39m",
      "\u001b[31mNameError\u001b[39m                                 Traceback (most recent call last)",
      "\u001b[36mCell\u001b[39m\u001b[36m \u001b[39m\u001b[32mIn[23]\u001b[39m\u001b[32m, line 2\u001b[39m\n\u001b[32m      1\u001b[39m sb.scatterplot(data=dff, x=\u001b[33m'\u001b[39m\u001b[33mvetexp\u001b[39m\u001b[33m'\u001b[39m, y=\u001b[33m'\u001b[39m\u001b[33mvetvisits\u001b[39m\u001b[33m'\u001b[39m, hue=\u001b[33m'\u001b[39m\u001b[33mVillage\u001b[39m\u001b[33m'\u001b[39m)\n\u001b[32m----> \u001b[39m\u001b[32m2\u001b[39m \u001b[43mplt\u001b[49m.title(\u001b[33m'\u001b[39m\u001b[33mvetexp vs vetvisits by Village\u001b[39m\u001b[33m'\u001b[39m)\n\u001b[32m      3\u001b[39m plt.show()\n",
      "\u001b[31mNameError\u001b[39m: name 'plt' is not defined"
     ]
    },
    {
     "data": {
      "image/png": "[encoded data removed]",
      "text/plain": [
       "<Figure size 640x480 with 1 Axes>"
      ]
     },
     "metadata": {},
     "output_type": "display_data"
    }
   ],
   "source": [
    "sb.scatterplot(data=dff, x='vetexp', y='vetvisits', hue='Village')\n",
    "plt.title('vetexp vs vetvisits by Village')\n",
    "plt.show()\n"
   ]
  },
  {
   "cell_type": "code",
   "execution_count": 24,
   "id": "6ccf2f65",
   "metadata": {},
   "outputs": [
    {
     "ename": "NameError",
     "evalue": "name 'plt' is not defined",
     "output_type": "error",
     "traceback": [
      "\u001b[31m---------------------------------------------------------------------------\u001b[39m",
      "\u001b[31mNameError\u001b[39m                                 Traceback (most recent call last)",
      "\u001b[36mCell\u001b[39m\u001b[36m \u001b[39m\u001b[32mIn[24]\u001b[39m\u001b[32m, line 2\u001b[39m\n\u001b[32m      1\u001b[39m sb.boxplot(data=dff, x=\u001b[33m'\u001b[39m\u001b[33mVillage\u001b[39m\u001b[33m'\u001b[39m, y=\u001b[33m'\u001b[39m\u001b[33mvetvisits\u001b[39m\u001b[33m'\u001b[39m)\n\u001b[32m----> \u001b[39m\u001b[32m2\u001b[39m \u001b[43mplt\u001b[49m.xticks(rotation=\u001b[32m45\u001b[39m)\n\u001b[32m      3\u001b[39m plt.title(\u001b[33m'\u001b[39m\u001b[33mDistribution of vetvisits by Village\u001b[39m\u001b[33m'\u001b[39m)\n\u001b[32m      4\u001b[39m plt.show()\n",
      "\u001b[31mNameError\u001b[39m: name 'plt' is not defined"
     ]
    },
    {
     "data": {
      "image/png": "[encoded data removed]",
      "text/plain": [
       "<Figure size 640x480 with 1 Axes>"
      ]
     },
     "metadata": {},
     "output_type": "display_data"
    }
   ],
   "source": [
    "sb.boxplot(data=dff, x='Village', y='vetvisits')\n",
    "plt.xticks(rotation=45)\n",
    "plt.title('Distribution of vetvisits by Village')\n",
    "plt.show()"
   ]
  },
  {
   "cell_type": "code",
   "execution_count": 25,
   "id": "5ac74f7a",
   "metadata": {},
   "outputs": [
    {
     "ename": "NameError",
     "evalue": "name 'plt' is not defined",
     "output_type": "error",
     "traceback": [
      "\u001b[31m---------------------------------------------------------------------------\u001b[39m",
      "\u001b[31mNameError\u001b[39m                                 Traceback (most recent call last)",
      "\u001b[36mCell\u001b[39m\u001b[36m \u001b[39m\u001b[32mIn[25]\u001b[39m\u001b[32m, line 2\u001b[39m\n\u001b[32m      1\u001b[39m sb.barplot(data=dff, x=\u001b[33m'\u001b[39m\u001b[33mVillage\u001b[39m\u001b[33m'\u001b[39m, y=\u001b[33m'\u001b[39m\u001b[33mvetexp\u001b[39m\u001b[33m'\u001b[39m, estimator=\u001b[33m'\u001b[39m\u001b[33mmean\u001b[39m\u001b[33m'\u001b[39m)\n\u001b[32m----> \u001b[39m\u001b[32m2\u001b[39m \u001b[43mplt\u001b[49m.xticks(rotation=\u001b[32m45\u001b[39m)\n\u001b[32m      3\u001b[39m plt.title(\u001b[33m'\u001b[39m\u001b[33mAverage vetexp by Village\u001b[39m\u001b[33m'\u001b[39m)\n\u001b[32m      4\u001b[39m plt.show()\n",
      "\u001b[31mNameError\u001b[39m: name 'plt' is not defined"
     ]
    },
    {
     "data": {
      "image/png": "[encoded data removed]",
      "text/plain": [
       "<Figure size 640x480 with 1 Axes>"
      ]
     },
     "metadata": {},
     "output_type": "display_data"
    }
   ],
   "source": [
    "sb.barplot(data=dff, x='Village', y='vetexp', estimator='mean')\n",
    "plt.xticks(rotation=45)\n",
    "plt.title('Average vetexp by Village')\n",
    "plt.show()"
   ]
  },
  {
   "cell_type": "code",
   "execution_count": 26,
   "id": "7e9258a5",
   "metadata": {},
   "outputs": [
    {
     "name": "stdout",
     "output_type": "stream",
     "text": [
      "Collecting statsmodels\n",
      "  Using cached statsmodels-0.14.4-cp313-cp313-win_amd64.whl.metadata (9.5 kB)\n",
      "Requirement already satisfied: numpy<3,>=1.22.3 in c:\\users\\pc\\appdata\\local\\programs\\python\\python313\\lib\\site-packages (from statsmodels) (2.2.5)\n",
      "Collecting scipy!=1.9.2,>=1.8 (from statsmodels)\n",
      "  Using cached scipy-1.15.2-cp313-cp313-win_amd64.whl.metadata (60 kB)\n",
      "Requirement already satisfied: pandas!=2.1.0,>=1.4 in c:\\users\\pc\\appdata\\local\\programs\\python\\python313\\lib\\site-packages (from statsmodels) (2.2.3)\n",
      "Collecting patsy>=0.5.6 (from statsmodels)\n",
      "  Using cached patsy-1.0.1-py2.py3-none-any.whl.metadata (3.3 kB)\n",
      "Requirement already satisfied: packaging>=21.3 in c:\\users\\pc\\appdata\\roaming\\python\\python313\\site-packages (from statsmodels) (25.0)\n",
      "Requirement already satisfied: python-dateutil>=2.8.2 in c:\\users\\pc\\appdata\\local\\programs\\python\\python313\\lib\\site-packages (from pandas!=2.1.0,>=1.4->statsmodels) (2.9.0.post0)\n",
      "Requirement already satisfied: pytz>=2020.1 in c:\\users\\pc\\appdata\\local\\programs\\python\\python313\\lib\\site-packages (from pandas!=2.1.0,>=1.4->statsmodels) (2025.2)\n",
      "Requirement already satisfied: tzdata>=2022.7 in c:\\users\\pc\\appdata\\local\\programs\\python\\python313\\lib\\site-packages (from pandas!=2.1.0,>=1.4->statsmodels) (2025.2)\n",
      "Requirement already satisfied: six>=1.5 in c:\\users\\pc\\appdata\\local\\programs\\python\\python313\\lib\\site-packages (from python-dateutil>=2.8.2->pandas!=2.1.0,>=1.4->statsmodels) (1.17.0)\n",
      "Using cached statsmodels-0.14.4-cp313-cp313-win_amd64.whl (9.8 MB)\n",
      "Using cached patsy-1.0.1-py2.py3-none-any.whl (232 kB)\n",
      "Using cached scipy-1.15.2-cp313-cp313-win_amd64.whl (41.0 MB)\n",
      "Installing collected packages: scipy, patsy, statsmodels\n",
      "Successfully installed patsy-1.0.1 scipy-1.15.2 statsmodels-0.14.4\n"
     ]
    }
   ],
   "source": [
    "!pip install statsmodels"
   ]
  },
  {
   "cell_type": "code",
   "execution_count": 27,
   "id": "415a19f0",
   "metadata": {},
   "outputs": [
    {
     "name": "stdout",
     "output_type": "stream",
     "text": [
      "Collecting sklearn\n",
      "  Downloading sklearn-0.0.post12.tar.gz (2.6 kB)\n",
      "  Installing build dependencies: started\n",
      "  Installing build dependencies: finished with status 'done'\n",
      "  Getting requirements to build wheel: started\n",
      "  Getting requirements to build wheel: finished with status 'error'\n"
     ]
    },
    {
     "name": "stderr",
     "output_type": "stream",
     "text": [
      "  error: subprocess-exited-with-error\n",
      "  \n",
      "  × Getting requirements to build wheel did not run successfully.\n",
      "  │ exit code: 1\n",
      "  ╰─> [15 lines of output]\n",
      "      The 'sklearn' PyPI package is deprecated, use 'scikit-learn'\n",
      "      rather than 'sklearn' for pip commands.\n",
      "      \n",
      "      Here is how to fix this error in the main use cases:\n",
      "      - use 'pip install scikit-learn' rather than 'pip install sklearn'\n",
      "      - replace 'sklearn' by 'scikit-learn' in your pip requirements files\n",
      "        (requirements.txt, setup.py, setup.cfg, Pipfile, etc ...)\n",
      "      - if the 'sklearn' package is used by one of your dependencies,\n",
      "        it would be great if you take some time to track which package uses\n",
      "        'sklearn' instead of 'scikit-learn' and report it to their issue tracker\n",
      "      - as a last resort, set the environment variable\n",
      "        SKLEARN_ALLOW_DEPRECATED_SKLEARN_PACKAGE_INSTALL=True to avoid this error\n",
      "      \n",
      "      More information is available at\n",
      "      https://github.com/scikit-learn/sklearn-pypi-package\n",
      "      [end of output]\n",
      "  \n",
      "  note: This error originates from a subprocess, and is likely not a problem with pip.\n",
      "error: subprocess-exited-with-error\n",
      "\n",
      "× Getting requirements to build wheel did not run successfully.\n",
      "│ exit code: 1\n",
      "╰─> See above for output.\n",
      "\n",
      "note: This error originates from a subprocess, and is likely not a problem with pip.\n"
     ]
    }
   ],
   "source": [
    "!pip install sklearn"
   ]
  },
  {
   "cell_type": "code",
   "execution_count": 28,
   "id": "a1681898",
   "metadata": {},
   "outputs": [
    {
     "ename": "ModuleNotFoundError",
     "evalue": "No module named 'sklearn'",
     "output_type": "error",
     "traceback": [
      "\u001b[31m---------------------------------------------------------------------------\u001b[39m",
      "\u001b[31mModuleNotFoundError\u001b[39m                       Traceback (most recent call last)",
      "\u001b[36mCell\u001b[39m\u001b[36m \u001b[39m\u001b[32mIn[28]\u001b[39m\u001b[32m, line 1\u001b[39m\n\u001b[32m----> \u001b[39m\u001b[32m1\u001b[39m \u001b[38;5;28;01mfrom\u001b[39;00m\u001b[38;5;250m \u001b[39m\u001b[34;01msklearn\u001b[39;00m\u001b[34;01m.\u001b[39;00m\u001b[34;01mlinear_model\u001b[39;00m\u001b[38;5;250m \u001b[39m\u001b[38;5;28;01mimport\u001b[39;00m LinearRegression\n\u001b[32m      2\u001b[39m \u001b[38;5;66;03m#import pandas as pd\u001b[39;00m\n\u001b[32m      3\u001b[39m \n\u001b[32m      4\u001b[39m \u001b[38;5;66;03m# Example: predicting vetvisits based on vetexp\u001b[39;00m\n\u001b[32m      5\u001b[39m X = df[[\u001b[33m'\u001b[39m\u001b[33mvetexp\u001b[39m\u001b[33m'\u001b[39m]]  \u001b[38;5;66;03m# independent variable (must be 2D)\u001b[39;00m\n",
      "\u001b[31mModuleNotFoundError\u001b[39m: No module named 'sklearn'"
     ]
    }
   ],
   "source": [
    "from sklearn.linear_model import LinearRegression\n",
    "#import pandas as pd\n",
    "\n",
    "# Example: predicting vetvisits based on vetexp\n",
    "X = df[['vetexp']]  # independent variable (must be 2D)\n",
    "y = df['vetvisits'] # dependent variable\n",
    "\n",
    "model = LinearRegression()\n",
    "model.fit(X, y)\n",
    "\n",
    "# Coefficient and intercept\n",
    "slope = model.coef_[0]\n",
    "intercept = model.intercept_\n",
    "\n",
    "# Predict\n",
    "df['predicted_visits'] = model.predict(X)\n",
    "\n",
    "print(slope, intercept)\n"
   ]
  },
  {
   "cell_type": "code",
   "execution_count": 29,
   "id": "4c6e7ac2",
   "metadata": {},
   "outputs": [
    {
     "name": "stdout",
     "output_type": "stream",
     "text": [
      "                            OLS Regression Results                            \n",
      "==============================================================================\n",
      "Dep. Variable:              vetvisits   R-squared:                       0.768\n",
      "Model:                            OLS   Adj. R-squared:                  0.767\n",
      "Method:                 Least Squares   F-statistic:                     819.0\n",
      "Date:                Thu, 24 Apr 2025   Prob (F-statistic):           1.52e-80\n",
      "Time:                        14:33:26   Log-Likelihood:                -235.20\n",
      "No. Observations:                 250   AIC:                             474.4\n",
      "Df Residuals:                     248   BIC:                             481.4\n",
      "Df Model:                           1                                         \n",
      "Covariance Type:            nonrobust                                         \n",
      "==============================================================================\n",
      "                 coef    std err          t      P>|t|      [0.025      0.975]\n",
      "------------------------------------------------------------------------------\n",
      "const          0.9946      0.056     17.749      0.000       0.884       1.105\n",
      "vetexp      6.063e-05   2.12e-06     28.618      0.000    5.65e-05    6.48e-05\n",
      "==============================================================================\n",
      "Omnibus:                      111.045   Durbin-Watson:                   1.855\n",
      "Prob(Omnibus):                  0.000   Jarque-Bera (JB):              601.556\n",
      "Skew:                          -1.711   Prob(JB):                    2.36e-131\n",
      "Kurtosis:                       9.786   Cond. No.                     3.77e+04\n",
      "==============================================================================\n",
      "\n",
      "Notes:\n",
      "[1] Standard Errors assume that the covariance matrix of the errors is correctly specified.\n",
      "[2] The condition number is large, 3.77e+04. This might indicate that there are\n",
      "strong multicollinearity or other numerical problems.\n"
     ]
    }
   ],
   "source": [
    "import statsmodels.api as sm\n",
    "\n",
    "X = df['vetexp']\n",
    "y = df['vetvisits']\n",
    "\n",
    "X = sm.add_constant(X)  # adds intercept term\n",
    "model = sm.OLS(y, X).fit()\n",
    "print(model.summary())\n"
   ]
  }
 ],
 "metadata": {
  "kernelspec": {
   "display_name": "Python 3",
   "language": "python",
   "name": "python3"
  },
  "language_info": {
   "codemirror_mode": {
    "name": "ipython",
    "version": 3
   },
   "file_extension": ".py",
   "mimetype": "text/x-python",
   "name": "python",
   "nbconvert_exporter": "python",
   "pygments_lexer": "ipython3",
   "version": "3.13.3"
  }
 },
 "nbformat": 4,
 "nbformat_minor": 5
}
